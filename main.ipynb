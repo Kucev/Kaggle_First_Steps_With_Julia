{
 "cells": [
  {
   "cell_type": "code",
   "execution_count": 1,
   "metadata": {
    "collapsed": false
   },
   "outputs": [
    {
     "name": "stderr",
     "output_type": "stream",
     "text": [
      "/Users/romankucev/anaconda/lib/python2.7/site-packages/matplotlib/__init__.py:1076: UserWarning: Bad val \"TkAgg or echo backend : Agg\" on line #1\n",
      "\t\"backend : TkAgg or echo backend : Agg\n",
      "\"\n",
      "\tin file \"/Users/romankucev/.matplotlib/matplotlibrc\"\n",
      "\tKey backend: Unrecognized backend string \"tkagg or echo backend : agg\": valid strings are [u'pgf', u'cairo', u'MacOSX', u'CocoaAgg', u'gdk', u'ps', u'GTKAgg', u'nbAgg', u'GTK', u'Qt5Agg', u'template', u'emf', u'GTK3Cairo', u'GTK3Agg', u'WX', u'Qt4Agg', u'TkAgg', u'agg', u'svg', u'GTKCairo', u'WXAgg', u'WebAgg', u'pdf']\n",
      "  (val, error_details, msg))\n",
      "Using Theano backend.\n"
     ]
    }
   ],
   "source": [
    "import os\n",
    "import pandas as pd\n",
    "import numpy as np\n",
    "from skimage.io import imread\n",
    "\n",
    "from keras.models import Model # basic class for specifying and training a neural network\n",
    "from keras.layers import Input, Dense # the two types of neural network layer we will be using\n",
    "\n",
    "# Set path\n",
    "path = os.path.expanduser('~') + '/proga/kaggle_julia/JuliaKaggle-master'"
   ]
  },
  {
   "cell_type": "code",
   "execution_count": 2,
   "metadata": {
    "collapsed": true
   },
   "outputs": [],
   "source": [
    "# Define functions\n",
    "def read_data(typeData, labelsInfo, imageSize, path):\n",
    "    x = np.zeros((labelsInfo.shape[0], imageSize))\n",
    "    \n",
    "    for (index, idImage) in enumerate(labelsInfo['ID']):\n",
    "        # use specially created 32 x 32 images\n",
    "        nameFile = '{0}/{1}Resized32/{2}.Bmp'.format(path, \n",
    "                    typeData, idImage)\n",
    "        img = imread(nameFile, as_grey = True)\n",
    "        \n",
    "        x[index, :] = np.reshape(img, (1, imageSize))\n",
    "        \n",
    "    return x"
   ]
  },
  {
   "cell_type": "code",
   "execution_count": 3,
   "metadata": {
    "collapsed": false
   },
   "outputs": [],
   "source": [
    "height, width, depth = 32, 32, 1 \n",
    "labelsInfoTrain = pd.read_csv('{0}/trainLabels.csv'.format(path))\n",
    "labelsInfoTest = pd.read_csv('{0}/sampleSubmission.csv'.format(path))\n",
    "\n",
    "# Load dataset\n",
    "xTrain = read_data('train', labelsInfoTrain, height * width, path)\n",
    "xTest = read_data('test', labelsInfoTest, height * width, path)\n",
    "\n",
    "yTrain = map(ord, labelsInfoTrain['Class'])\n",
    "yTrain = np.array(yTrain)"
   ]
  },
  {
   "cell_type": "code",
   "execution_count": 4,
   "metadata": {
    "collapsed": true
   },
   "outputs": [],
   "source": [
    "# Preprocess (Normalize) data\n",
    "xTrain /= xTrain.std(axis = None)\n",
    "xTrain -= xTrain.mean()\n",
    "\n",
    "xTest /= xTest.std(axis = None)\n",
    "xTest -= xTest.mean()"
   ]
  },
  {
   "cell_type": "code",
   "execution_count": 5,
   "metadata": {
    "collapsed": true
   },
   "outputs": [],
   "source": [
    "num_classes = 62\n",
    "batch_size = 128 # in each iteration, we consider 128 training examples at once\n",
    "num_epochs = 20 # we iterate twenty times over the entire training set\n",
    "hidden_size = 512 # there will be 512 neurons in both hidden layers"
   ]
  },
  {
   "cell_type": "code",
   "execution_count": 6,
   "metadata": {
    "collapsed": true
   },
   "outputs": [],
   "source": [
    "inp = Input(shape=(height * width,)) # Our input is a 1D vector of size 1024\n",
    "hidden_1 = Dense(hidden_size, activation='relu')(inp) # First hidden ReLU layer\n",
    "hidden_2 = Dense(hidden_size, activation='relu')(hidden_1) # Second hidden ReLU layer\n",
    "out = Dense(num_classes, activation='softmax')(hidden_2) # Output softmax layer\n",
    "\n",
    "model = Model(input=inp, output=out) "
   ]
  },
  {
   "cell_type": "code",
   "execution_count": 7,
   "metadata": {
    "collapsed": true
   },
   "outputs": [],
   "source": [
    "model.compile(loss='categorical_crossentropy', # using the cross-entropy loss function\n",
    "              optimizer='adam', # using the Adam optimiser\n",
    "              metrics=['accuracy']) # reporting the accuracy"
   ]
  },
  {
   "cell_type": "code",
   "execution_count": 8,
   "metadata": {
    "collapsed": false
   },
   "outputs": [],
   "source": [
    "s = list(set(yTrain)) #set of 62 classes\n",
    "Y = np.zeros((len(yTrain),62) ,dtype= np.int32 )\n",
    "for ii,i in enumerate(yTrain):\n",
    "    Y[ii][s.index(i)] = 1"
   ]
  },
  {
   "cell_type": "code",
   "execution_count": 9,
   "metadata": {
    "collapsed": false,
    "scrolled": true
   },
   "outputs": [
    {
     "name": "stdout",
     "output_type": "stream",
     "text": [
      "Train on 5654 samples, validate on 629 samples\n",
      "Epoch 1/20\n",
      "5654/5654 [==============================] - 1s - loss: 3.6503 - acc: 0.1597 - val_loss: 3.2123 - val_acc: 0.2258\n",
      "Epoch 2/20\n",
      "5654/5654 [==============================] - 1s - loss: 2.7896 - acc: 0.3449 - val_loss: 2.5786 - val_acc: 0.3720\n",
      "Epoch 3/20\n",
      "5654/5654 [==============================] - 1s - loss: 2.2061 - acc: 0.4616 - val_loss: 2.1705 - val_acc: 0.4706\n",
      "Epoch 4/20\n",
      "5654/5654 [==============================] - 1s - loss: 1.8353 - acc: 0.5405 - val_loss: 1.9945 - val_acc: 0.5056\n",
      "Epoch 5/20\n",
      "5654/5654 [==============================] - 1s - loss: 1.5829 - acc: 0.5996 - val_loss: 1.8467 - val_acc: 0.5151\n",
      "Epoch 6/20\n",
      "5654/5654 [==============================] - 1s - loss: 1.3667 - acc: 0.6459 - val_loss: 1.7669 - val_acc: 0.5374\n",
      "Epoch 7/20\n",
      "5654/5654 [==============================] - 1s - loss: 1.2164 - acc: 0.6797 - val_loss: 1.6651 - val_acc: 0.5533\n",
      "Epoch 8/20\n",
      "5654/5654 [==============================] - 1s - loss: 1.0794 - acc: 0.7142 - val_loss: 1.6645 - val_acc: 0.5628\n",
      "Epoch 9/20\n",
      "5654/5654 [==============================] - 1s - loss: 0.9716 - acc: 0.7366 - val_loss: 1.5900 - val_acc: 0.5787\n",
      "Epoch 10/20\n",
      "5654/5654 [==============================] - 1s - loss: 0.8703 - acc: 0.7680 - val_loss: 1.5895 - val_acc: 0.5898\n",
      "Epoch 11/20\n",
      "5654/5654 [==============================] - 1s - loss: 0.7856 - acc: 0.7855 - val_loss: 1.5680 - val_acc: 0.5914\n",
      "Epoch 12/20\n",
      "5654/5654 [==============================] - 1s - loss: 0.6867 - acc: 0.8196 - val_loss: 1.5321 - val_acc: 0.6057\n",
      "Epoch 13/20\n",
      "5654/5654 [==============================] - 1s - loss: 0.6329 - acc: 0.8330 - val_loss: 1.6104 - val_acc: 0.6041\n",
      "Epoch 14/20\n",
      "5654/5654 [==============================] - 1s - loss: 0.5740 - acc: 0.8504 - val_loss: 1.5939 - val_acc: 0.6184\n",
      "Epoch 15/20\n",
      "5654/5654 [==============================] - 1s - loss: 0.5327 - acc: 0.8573 - val_loss: 1.6023 - val_acc: 0.5930\n",
      "Epoch 16/20\n",
      "5654/5654 [==============================] - 1s - loss: 0.4732 - acc: 0.8787 - val_loss: 1.5670 - val_acc: 0.6137\n",
      "Epoch 17/20\n",
      "5654/5654 [==============================] - 1s - loss: 0.4440 - acc: 0.8836 - val_loss: 1.5848 - val_acc: 0.6375\n",
      "Epoch 18/20\n",
      "5654/5654 [==============================] - 2s - loss: 0.4024 - acc: 0.8985 - val_loss: 1.6416 - val_acc: 0.6121\n",
      "Epoch 19/20\n",
      "5654/5654 [==============================] - 1s - loss: 0.3597 - acc: 0.9094 - val_loss: 1.5988 - val_acc: 0.6248\n",
      "Epoch 20/20\n",
      "5654/5654 [==============================] - 1s - loss: 0.3236 - acc: 0.9209 - val_loss: 1.6394 - val_acc: 0.6423\n"
     ]
    },
    {
     "data": {
      "text/plain": [
       "<keras.callbacks.History at 0x120cf5510>"
      ]
     },
     "execution_count": 9,
     "metadata": {},
     "output_type": "execute_result"
    }
   ],
   "source": [
    "model.fit(xTrain, Y, # Train the model using the training set...\n",
    "          batch_size=batch_size, nb_epoch=num_epochs,\n",
    "          verbose=1, validation_split=0.1) # ...holding out 10% of the data for validation"
   ]
  },
  {
   "cell_type": "code",
   "execution_count": 10,
   "metadata": {
    "collapsed": false
   },
   "outputs": [],
   "source": [
    "pred = model.predict(xTest)\n",
    "ans = []\n",
    "for i in pred:\n",
    "    ans.append(s[i.argmax()])"
   ]
  },
  {
   "cell_type": "code",
   "execution_count": 11,
   "metadata": {
    "collapsed": true
   },
   "outputs": [],
   "source": [
    "# Convert for submission\n",
    "yTest = map(chr, ans)\n",
    "labelsInfoTest['Class'] = yTest\n",
    "labelsInfoTest.to_csv('{0}/submission.csv'.format(path), index = False)"
   ]
  }
 ],
 "metadata": {
  "kernelspec": {
   "display_name": "Python 2",
   "language": "python",
   "name": "python2"
  },
  "language_info": {
   "codemirror_mode": {
    "name": "ipython",
    "version": 2
   },
   "file_extension": ".py",
   "mimetype": "text/x-python",
   "name": "python",
   "nbconvert_exporter": "python",
   "pygments_lexer": "ipython2",
   "version": "2.7.11"
  }
 },
 "nbformat": 4,
 "nbformat_minor": 0
}
